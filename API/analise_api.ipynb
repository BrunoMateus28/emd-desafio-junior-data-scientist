{
  "nbformat": 4,
  "nbformat_minor": 0,
  "metadata": {
    "colab": {
      "provenance": []
    },
    "kernelspec": {
      "name": "python3",
      "display_name": "Python 3"
    },
    "language_info": {
      "name": "python"
    }
  },
  "cells": [
    {
      "cell_type": "code",
      "source": [
        "!pip install openmeteo-requests\n",
        "!pip install requests-cache retry-requests numpy pandas"
      ],
      "metadata": {
        "id": "3CeMrHBFYT4-"
      },
      "execution_count": null,
      "outputs": []
    },
    {
      "cell_type": "code",
      "source": [
        "import requests\n",
        "import pandas as pd\n",
        "\n",
        "# Obter feriados\n",
        "country = \"BR\"\n",
        "year = 2024\n",
        "response = requests.get(f\"https://date.nager.at/api/v3/PublicHolidays/{year}/{country}\")\n",
        "holidays_data = response.json()\n",
        "\n",
        "# Converter os dados de feriados em um DataFrame\n",
        "holidays_df = pd.DataFrame(holidays_data)\n",
        "holidays_df['date'] = pd.to_datetime(holidays_df['date'])  # Converter a coluna de datas\n",
        "\n",
        "# Dicionários para tradução dos meses e dias da semana\n",
        "month_translation = {\n",
        "    1: 'Janeiro', 2: 'Fevereiro', 3: 'Março', 4: 'Abril', 5: 'Maio', 6: 'Junho',\n",
        "    7: 'Julho', 8: 'Agosto', 9: 'Setembro', 10: 'Outubro', 11: 'Novembro', 12: 'Dezembro'\n",
        "}\n",
        "\n",
        "day_translation = {\n",
        "    0: 'Segunda-feira', 1: 'Terça-feira', 2: 'Quarta-feira', 3: 'Quinta-feira',\n",
        "    4: 'Sexta-feira', 5: 'Sábado', 6: 'Domingo'\n",
        "}\n",
        "\n",
        "# Adicionar colunas com nome do mês e do dia da semana em português\n",
        "holidays_df['month'] = holidays_df['date'].dt.month\n",
        "holidays_df['month_name'] = holidays_df['month'].map(month_translation)\n",
        "holidays_df['weekday'] = holidays_df['date'].dt.dayofweek\n",
        "holidays_df['weekday_name'] = holidays_df['weekday'].map(day_translation)"
      ],
      "metadata": {
        "id": "tq2k-3lbhmPv"
      },
      "execution_count": null,
      "outputs": []
    },
    {
      "cell_type": "code",
      "source": [
        "import requests\n",
        "import pandas as pd\n",
        "import numpy as np\n",
        "import json\n",
        "\n",
        "# URL e parâmetros da API\n",
        "url = \"https://archive-api.open-meteo.com/v1/archive\"\n",
        "params = {\n",
        "    \"latitude\": -22.9064,\n",
        "    \"longitude\": -43.1822,\n",
        "    \"start_date\": \"2024-01-01\",\n",
        "    \"end_date\": \"2024-08-01\",\n",
        "    \"daily\": [\"weather_code\", \"temperature_2m_mean\"],\n",
        "    \"timezone\": \"America/Sao_Paulo\"\n",
        "}\n",
        "\n",
        "# Requisição à API Open-Meteo\n",
        "response = requests.get(url, params=params)\n",
        "data = response.json()\n",
        "\n",
        "# Extraindo dados diários\n",
        "daily_data = data['daily']\n",
        "dates = pd.to_datetime(daily_data['time'])\n",
        "weather_codes = daily_data['weather_code']\n",
        "temperature_means = daily_data['temperature_2m_mean']\n",
        "\n",
        "# Criar DataFrame\n",
        "df = pd.DataFrame({\n",
        "    'date': dates,\n",
        "    'Código do Clima': weather_codes,\n",
        "    'Temperatura Média': temperature_means\n",
        "})\n",
        "\n",
        "# Adicionar colunas de mês e ano\n",
        "df['Ano'] = df['date'].dt.year\n",
        "df['Mês'] = df['date'].dt.month\n",
        "\n",
        "# Dicionário para tradução dos meses para português\n",
        "month_translation = {\n",
        "    1: 'Janeiro', 2: 'Fevereiro', 3: 'Março', 4: 'Abril', 5: 'Maio', 6: 'Junho',\n",
        "    7: 'Julho', 8: 'Agosto', 9: 'Setembro', 10: 'Outubro', 11: 'Novembro', 12: 'Dezembro'\n",
        "}\n",
        "\n",
        "# Adicionar coluna com o nome do mês em português\n",
        "df['Nome do Mês'] = df['Mês'].map(month_translation)\n",
        "\n",
        "# Organizar colunas\n",
        "df = df[['Ano','Mês' ,'Nome do Mês', 'Código do Clima', 'Temperatura Média','date']]\n",
        "\n",
        "# Exibir o DataFrame resultante\n",
        "print(df)\n"
      ],
      "metadata": {
        "id": "xVuSUV49PFK3"
      },
      "execution_count": null,
      "outputs": []
    },
    {
      "cell_type": "markdown",
      "source": [
        "**1. Quantos feriados há no Brasil em 2024?**"
      ],
      "metadata": {
        "id": "HMQYlxoOO29h"
      }
    },
    {
      "cell_type": "code",
      "execution_count": null,
      "metadata": {
        "id": "LsSSdsa0Oygy"
      },
      "outputs": [],
      "source": [
        "total_feriados = holidays_df.shape[0]\n",
        "print(f\"Total de feriados no Brasil em 2024: {total_feriados}\")"
      ]
    },
    {
      "cell_type": "markdown",
      "source": [
        "**2. Qual mês de 2024 tem o maior número de feriados?**"
      ],
      "metadata": {
        "id": "JuudHD79PRbP"
      }
    },
    {
      "cell_type": "code",
      "source": [
        "feriados_por_mes = holidays_df['month_name'].value_counts().reindex(month_translation.values())\n",
        "\n",
        "print(feriados_por_mes)"
      ],
      "metadata": {
        "id": "G03UNzu1PTTe"
      },
      "execution_count": null,
      "outputs": []
    },
    {
      "cell_type": "markdown",
      "source": [
        "Fevereiro, Março, Maio e Novembro, mas Fevereiro só tem o carnaval que conta como 2."
      ],
      "metadata": {
        "id": "eEZhir08q6Rw"
      }
    },
    {
      "cell_type": "markdown",
      "source": [
        "**3. Quantos feriados em 2024 caem em dias de semana (segunda a sexta-feira)?**"
      ],
      "metadata": {
        "id": "xCu6xGbIPn79"
      }
    },
    {
      "cell_type": "code",
      "source": [
        "holidays_df['weekday'] = holidays_df['date'].dt.weekday  # 0=Monday, 6=Sunday\n",
        "feriados_dias_semana = holidays_df[holidays_df['weekday'] < 5].shape[0]\n",
        "print(f\"Feriados em dias de semana (segunda a sexta-feira): {feriados_dias_semana}\")"
      ],
      "metadata": {
        "id": "NSbKu7IMPnWb"
      },
      "execution_count": null,
      "outputs": []
    },
    {
      "cell_type": "markdown",
      "source": [
        "**4. Qual foi a temperatura média em cada mês de 01/01/2024 a 01/08/2024 no Rio de Janeiro?**"
      ],
      "metadata": {
        "id": "481s8jPrPvSj"
      }
    },
    {
      "cell_type": "code",
      "source": [
        "df_medias = pd.DataFrame(columns=['Mês', 'Nome do Mês','Temperatura Média'])\n",
        "\n",
        "df_medias = df.groupby(['Mês','Nome do Mês'])['Temperatura Média'].mean().reset_index()\n",
        "\n",
        "print(df_medias)"
      ],
      "metadata": {
        "id": "1NYs-2YHcekW"
      },
      "execution_count": null,
      "outputs": []
    },
    {
      "cell_type": "markdown",
      "source": [
        "**5. Qual foi o tempo predominante em cada mês nesse período?**"
      ],
      "metadata": {
        "id": "vLUH0Us1ewcT"
      }
    },
    {
      "cell_type": "code",
      "source": [
        "with open('/descriptions.json', 'r') as file:\n",
        "    wmo_codes = json.load(file)\n",
        "\n",
        "# Adicionar coluna com a descrição e imagem do clima\n",
        "df['Descrição do Clima'] = df['Código do Clima'].map(lambda x: wmo_codes.get(str(x), {\"day\": {\"description\": \"Desconhecido\", \"image\": None}})['day']['description'])\n",
        "df['Imagem do Clima'] = df['Código do Clima'].map(lambda x: wmo_codes.get(str(x), {\"day\": {\"description\": \"Desconhecido\", \"image\": None}})['day']['image'])\n",
        "\n",
        "# Encontrar o clima predominante em cada mês\n",
        "tempo_predominante = df.groupby(['Mês','Nome do Mês'])['Código do Clima'].agg(lambda x: x.mode().iloc[0]).reset_index()\n",
        "\n",
        "# Adicionar a descrição e imagem do clima predominante\n",
        "tempo_predominante['Descrição do Clima Predominante'] = tempo_predominante['Código do Clima'].map(lambda x: wmo_codes.get(str(x), {\"day\": {\"description\": \"Desconhecido\", \"image\": None}})['day']['description'])\n",
        "tempo_predominante['Imagem do Clima Predominante'] = tempo_predominante['Código do Clima'].map(lambda x: wmo_codes.get(str(x), {\"day\": {\"description\": \"Desconhecido\", \"image\": None}})['day']['image'])\n",
        "\n",
        "# Renomear colunas\n",
        "tempo_predominante = tempo_predominante[['Nome do Mês', 'Descrição do Clima Predominante', 'Imagem do Clima Predominante']]\n",
        "\n",
        "# Exibir o DataFrame resultante\n",
        "print(tempo_predominante)"
      ],
      "metadata": {
        "id": "tHLly8otez3-"
      },
      "execution_count": null,
      "outputs": []
    },
    {
      "cell_type": "markdown",
      "source": [
        "**6. Qual foi o tempo e a temperatura média em cada feriado de 01/01/2024 a 01/08/2024?**"
      ],
      "metadata": {
        "id": "pVenEGwlxif3"
      }
    },
    {
      "cell_type": "code",
      "source": [
        "df['Descrição do Clima'] = df['Código do Clima'].map(lambda x: wmo_codes.get(str(x), {\"day\": {\"description\": \"Desconhecido\", \"image\": None}})['day']['description'])\n",
        "# Unir DataFrames de feriados e clima\n",
        "df_holiday_temp = pd.merge(holidays_df, df[['date', 'Temperatura Média', 'Código do Clima','Descrição do Clima']], on='date', how='left')\n",
        "\n",
        "# Filtrar de 1º de janeiro até 1º de agosto\n",
        "start_date = '2024-01-01'\n",
        "end_date = '2024-08-01'\n",
        "df_holiday_temp = df_holiday_temp.loc[(df_holiday_temp['date'] >= start_date) & (df_holiday_temp['date'] <= end_date)]\n",
        "\n",
        "# Selecionar colunas a serem exibidas\n",
        "df_holiday_temp = df_holiday_temp[['localName', 'date', 'Temperatura Média', 'Código do Clima','Descrição do Clima']]\n",
        "\n",
        "# Exibir o DataFrame resultante\n",
        "df_holiday_temp.head(9)"
      ],
      "metadata": {
        "id": "W9DT7z1exkjp"
      },
      "execution_count": null,
      "outputs": []
    },
    {
      "cell_type": "code",
      "source": [
        "nao_aproveitavel = df_holiday_temp[\n",
        "    (df_holiday_temp['Temperatura Média'] < 20) |\n",
        "    (df_holiday_temp['Código do Clima'] > 2)\n",
        "]\n",
        "nao_aproveitavel.head(9)"
      ],
      "metadata": {
        "id": "P29J5Ir_4oT1"
      },
      "execution_count": null,
      "outputs": []
    },
    {
      "cell_type": "markdown",
      "source": [
        "**8. Qual foi o feriado \"mais aproveitável\" de 2024?**"
      ],
      "metadata": {
        "id": "8SQUeziz6G1F"
      }
    },
    {
      "cell_type": "code",
      "source": [
        "# Filtrar feriados que não são aproveitáveis\n",
        "mais_aproveitavel = df_holiday_temp[\n",
        "    (df_holiday_temp['Temperatura Média'] > 20) &\n",
        "    (df_holiday_temp['Código do Clima'] <=2)\n",
        "]\n",
        "\n",
        "# Ordenar o DataFrame por temperatura média e código do clima\n",
        "mais_aproveitavel_sorted = mais_aproveitavel.sort_values(by=['Temperatura Média', 'Código do Clima'], ascending=[False, True])\n",
        "\n",
        "# Exibir os primeiros 5 resultados\n",
        "mais_aproveitavel_sorted.head(5)\n"
      ],
      "metadata": {
        "id": "8iDgPFFx6J4O"
      },
      "execution_count": null,
      "outputs": []
    },
    {
      "cell_type": "markdown",
      "source": [
        "Ao organizar pela temperatura média e o Código do Clima, observamos que o feriado mais agradável de acordo com esses critérios seria o Carnaval. No entanto, se o critério priorizasse o tipo de clima, o melhor seria o Dia do Trabalhador. São muito próximos, então é interpretativo."
      ],
      "metadata": {
        "id": "fsVPRNgZEtff"
      }
    }
  ]
}