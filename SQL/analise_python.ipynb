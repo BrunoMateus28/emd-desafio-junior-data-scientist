{
  "cells": [
    {
      "cell_type": "code",
      "execution_count": null,
      "metadata": {
        "id": "Vs1oTN-3ltcY"
      },
      "outputs": [],
      "source": [
        "!pip install basedosdados"
      ]
    },
    {
      "cell_type": "code",
      "execution_count": 5,
      "metadata": {
        "id": "HqCBvXE3mOeZ"
      },
      "outputs": [],
      "source": [
        "import basedosdados as bd\n",
        "import pandas as pd\n",
        "import matplotlib.pyplot as plt\n",
        "import seaborn as sns\n",
        "import geopandas as gpd\n",
        "import plotly.express as px\n",
        "\n",
        "billing_project_id = \"onyx-basis-433918-s7\""
      ]
    },
    {
      "cell_type": "code",
      "execution_count": null,
      "metadata": {
        "id": "D6Qq79VPmc4c"
      },
      "outputs": [],
      "source": [
        "# 1. Quantos chamados foram abertos no dia 01/04/2023?\n",
        "query_1 = \"\"\"\n",
        "    SELECT COUNT(*) AS total_chamados\n",
        "    FROM `datario.adm_central_atendimento_1746.chamado`\n",
        "    WHERE DATE(data_inicio) = '2023-04-01'\n",
        "\"\"\"\n",
        "df_total_chamados = bd.read_sql(query_1, billing_project_id)\n",
        "\n"
      ]
    },
    {
      "cell_type": "code",
      "execution_count": null,
      "metadata": {
        "id": "72JpESdXmhH0"
      },
      "outputs": [],
      "source": [
        "# 2. Qual o tipo de chamado que teve mais chamados abertos no dia 01/04/2023?\n",
        "query_2 = \"\"\"\n",
        "    SELECT tipo, COUNT(*) AS total_chamados\n",
        "    FROM `datario.adm_central_atendimento_1746.chamado`\n",
        "    WHERE DATE(data_inicio) = '2023-04-01'\n",
        "    GROUP BY tipo\n",
        "    ORDER BY total_chamados DESC\n",
        "    LIMIT 1\n",
        "\"\"\"\n",
        "df_tipo_mais_comum = bd.read_sql(query_2, billing_project_id)\n",
        "\n"
      ]
    },
    {
      "cell_type": "code",
      "execution_count": null,
      "metadata": {
        "id": "ya5EPGkImlEt"
      },
      "outputs": [],
      "source": [
        "# 3. Quais os nomes dos 3 bairros que mais tiveram chamados abertos nesse dia?\n",
        "query_3 = \"\"\"\n",
        "    SELECT b.nome AS nome_bairro, COUNT(*) AS total_chamados\n",
        "    FROM `datario.adm_central_atendimento_1746.chamado` c\n",
        "    JOIN `datario.dados_mestres.bairro` b\n",
        "    ON c.id_bairro = b.id_bairro\n",
        "    WHERE DATE(c.data_inicio) = '2023-04-01'\n",
        "    GROUP BY nome_bairro\n",
        "    ORDER BY total_chamados DESC\n",
        "    LIMIT 3\n",
        "\"\"\"\n",
        "df_top_bairros = bd.read_sql(query_3, billing_project_id)\n"
      ]
    },
    {
      "cell_type": "code",
      "execution_count": null,
      "metadata": {
        "id": "WGNnbOwemnjQ"
      },
      "outputs": [],
      "source": [
        "\n",
        "# 4. Qual o nome da subprefeitura com mais chamados abertos nesse dia?\n",
        "query_4 = \"\"\"\n",
        "    SELECT b.subprefeitura, COUNT(*) AS total_chamados\n",
        "    FROM `datario.adm_central_atendimento_1746.chamado` c\n",
        "    JOIN `datario.dados_mestres.bairro` b\n",
        "    ON c.id_bairro = b.id_bairro\n",
        "    WHERE DATE(c.data_inicio) = '2023-04-01'\n",
        "    GROUP BY b.subprefeitura\n",
        "    ORDER BY total_chamados DESC\n",
        "    LIMIT 1\n",
        "\"\"\"\n",
        "df_top_subprefeitura = bd.read_sql(query_4, billing_project_id)\n",
        "\n"
      ]
    },
    {
      "cell_type": "code",
      "execution_count": null,
      "metadata": {
        "id": "QI7nZO7Ymp3L"
      },
      "outputs": [],
      "source": [
        "# 5. Existe algum chamado aberto nesse dia que não foi associado a um bairro ou subprefeitura na tabela de bairros?\n",
        "query_5 = \"\"\"\n",
        "    SELECT COUNT(*) AS total_chamados_sem_bairro\n",
        "    FROM `datario.adm_central_atendimento_1746.chamado` c\n",
        "    LEFT JOIN `datario.dados_mestres.bairro` b\n",
        "    ON c.id_bairro = b.id_bairro\n",
        "    WHERE DATE(c.data_inicio) = '2023-04-01' AND b.id_bairro IS NULL\n",
        "\"\"\"\n",
        "df_chamados_sem_bairro = bd.read_sql(query_5, billing_project_id)\n",
        "\n"
      ]
    },
    {
      "cell_type": "code",
      "execution_count": null,
      "metadata": {
        "id": "_-TJv4yFmsGD"
      },
      "outputs": [],
      "source": [
        "# 6. Quantos chamados com o subtipo \"Perturbação do sossego\" foram abertos desde 01/01/2022 até 31/12/2023?\n",
        "query_6 = \"\"\"\n",
        "    SELECT COUNT(*) AS total_chamados\n",
        "    FROM `datario.adm_central_atendimento_1746.chamado`\n",
        "    WHERE subtipo = 'Perturbação do sossego'\n",
        "    AND DATE(data_inicio) BETWEEN '2022-01-01' AND '2023-12-31'\n",
        "\"\"\"\n",
        "df_total_perturbacao = bd.read_sql(query_6, billing_project_id)\n",
        "\n"
      ]
    },
    {
      "cell_type": "code",
      "execution_count": null,
      "metadata": {
        "id": "QUugfuRlmt4c"
      },
      "outputs": [],
      "source": [
        "# 7. Selecione os chamados com esse subtipo que foram abertos durante os eventos contidos na tabela de eventos.\n",
        "query_7 = \"\"\"\n",
        "    SELECT c.*\n",
        "    FROM `datario.adm_central_atendimento_1746.chamado` c\n",
        "    JOIN `datario.turismo_fluxo_visitantes.rede_hoteleira_ocupacao_eventos` e\n",
        "    ON DATE(c.data_inicio) BETWEEN e.data_inicial AND e.data_final\n",
        "    WHERE c.subtipo = 'Perturbação do sossego'\n",
        "\"\"\"\n",
        "df_chamados_eventos = bd.read_sql(query_7, billing_project_id)\n",
        "\n"
      ]
    },
    {
      "cell_type": "code",
      "execution_count": null,
      "metadata": {
        "id": "9rOwU8tKmvcv"
      },
      "outputs": [],
      "source": [
        "# 8. Quantos chamados desse subtipo foram abertos em cada evento?\n",
        "query_8 = \"\"\"\n",
        "    SELECT e.evento, COUNT(*) AS total_chamados\n",
        "    FROM `datario.adm_central_atendimento_1746.chamado` c\n",
        "    JOIN `datario.turismo_fluxo_visitantes.rede_hoteleira_ocupacao_eventos` e\n",
        "    ON DATE(c.data_inicio) BETWEEN e.data_inicial AND e.data_final\n",
        "    WHERE c.subtipo = 'Perturbação do sossego'\n",
        "    GROUP BY e.evento\n",
        "\"\"\"\n",
        "df_chamados_por_evento = bd.read_sql(query_8, billing_project_id)\n",
        "\n"
      ]
    },
    {
      "cell_type": "code",
      "execution_count": null,
      "metadata": {
        "id": "Uah_jyowmxl1"
      },
      "outputs": [],
      "source": [
        "# 9. Qual evento teve a maior média diária de chamados abertos desse subtipo?\n",
        "query_9 = \"\"\"\n",
        "    SELECT e.evento, COUNT(*) / COUNT(DISTINCT DATE(c.data_inicio)) AS media_diaria_chamados\n",
        "    FROM `datario.adm_central_atendimento_1746.chamado` c\n",
        "    JOIN `datario.turismo_fluxo_visitantes.rede_hoteleira_ocupacao_eventos` e\n",
        "    ON DATE(c.data_inicio) BETWEEN e.data_inicial AND e.data_final\n",
        "    WHERE c.subtipo = 'Perturbação do sossego'\n",
        "    GROUP BY e.evento\n",
        "    ORDER BY media_diaria_chamados DESC\n",
        "    LIMIT 1\n",
        "\"\"\"\n",
        "df_evento_mais_chamados = bd.read_sql(query_9, billing_project_id)\n",
        "\n"
      ]
    },
    {
      "cell_type": "code",
      "execution_count": null,
      "metadata": {
        "id": "78LohN4Imzx0"
      },
      "outputs": [],
      "source": [
        "# 10. Compare as médias diárias de chamados abertos desse subtipo durante os eventos específicos e a média diária de chamados abertos desse subtipo considerando todo o período.\n",
        "query_10_eventos = \"\"\"\n",
        "    SELECT e.evento, COUNT(*) / COUNT(DISTINCT DATE(c.data_inicio)) AS media_diaria_evento\n",
        "    FROM `datario.adm_central_atendimento_1746.chamado` c\n",
        "    JOIN `datario.turismo_fluxo_visitantes.rede_hoteleira_ocupacao_eventos` e\n",
        "    ON DATE(c.data_inicio) BETWEEN e.data_inicial AND e.data_final\n",
        "    WHERE c.subtipo = 'Perturbação do sossego'\n",
        "    GROUP BY e.evento\n",
        "\"\"\"\n",
        "df_media_diaria_eventos = bd.read_sql(query_10_eventos, billing_project_id)\n",
        "\n",
        "query_10_geral = \"\"\"\n",
        "    SELECT COUNT(*) / COUNT(DISTINCT DATE(data_inicio)) AS media_diaria_geral\n",
        "    FROM `datario.adm_central_atendimento_1746.chamado`\n",
        "    WHERE subtipo = 'Perturbação do sossego'\n",
        "    AND DATE(data_inicio) BETWEEN '2022-01-01' AND '2023-12-31'\n",
        "\"\"\"\n",
        "df_media_diaria_geral = bd.read_sql(query_10_geral, billing_project_id)\n",
        "\n"
      ]
    },
    {
      "cell_type": "code",
      "execution_count": null,
      "metadata": {
        "id": "inD1quC9m3TP"
      },
      "outputs": [],
      "source": [
        "# Resultados\n",
        "print(f\"Total de chamados em 01/04/2023: {df_total_chamados.iloc[0, 0]}\")\n",
        "print(f\"Tipo de chamado mais comum em 01/04/2023: {df_tipo_mais_comum.iloc[0, 0]} com {df_tipo_mais_comum.iloc[0, 1]} chamados\")\n",
        "print(\"Top 3 bairros com mais chamados em 01/04/2023:\")\n",
        "print(df_top_bairros)\n",
        "print(f\"Subprefeitura com mais chamados em 01/04/2023: {df_top_subprefeitura.iloc[0, 0]}\")\n",
        "print(f\"Chamados em 01/04/2023 sem bairro associado: {df_chamados_sem_bairro.iloc[0, 0]}\")\n",
        "print(f\"Total de chamados por 'Perturbação do sossego' entre 01/01/2022 e 31/12/2023: {df_total_perturbacao.iloc[0, 0]}\")\n",
        "print(f\"Total de chamados por 'Perturbação do sossego' durante os eventos: {df_chamados_eventos.shape[0]}\")\n",
        "print(\"Chamados por 'Perturbação do sossego' por evento:\")\n",
        "print(df_chamados_por_evento)\n",
        "print(f\"Evento com maior média diária de chamados: {df_evento_mais_chamados.iloc[0, 0]}\")\n",
        "print(\"Médias diárias durante os eventos específicos:\")\n",
        "print(df_media_diaria_eventos)\n",
        "print(f\"Média diária geral: {df_media_diaria_geral.iloc[0, 0]}\")\n"
      ]
    },
    {
      "cell_type": "code",
      "execution_count": null,
      "metadata": {
        "id": "otEYa8YOpJkg"
      },
      "outputs": [],
      "source": [
        "# Consulta para obter chamados ao longo do tempo\n",
        "query_chamados_tempo = \"\"\"\n",
        "    SELECT DATE(data_inicio) AS data, COUNT(*) AS total_chamados\n",
        "    FROM `datario.adm_central_atendimento_1746.chamado`\n",
        "    WHERE subtipo = 'Perturbação do sossego'\n",
        "    AND DATE(data_inicio) BETWEEN '2022-01-01' AND '2023-12-31'\n",
        "    GROUP BY data\n",
        "    ORDER BY data\n",
        "\"\"\"\n",
        "df_chamados_tempo = bd.read_sql(query_chamados_tempo, billing_project_id)\n",
        "\n",
        "# Gráfico de Linha\n",
        "plt.figure(figsize=(14, 7))\n",
        "plt.plot(df_chamados_tempo['data'], df_chamados_tempo['total_chamados'], marker='o', linestyle='-')\n",
        "plt.title('Distribuição Diária de Chamados de Perturbação do Sossego (2022-2023)')\n",
        "plt.xlabel('Data')\n",
        "plt.ylabel('Número de Chamados')\n",
        "plt.xticks(rotation=45)\n",
        "plt.grid(True)\n",
        "plt.tight_layout()\n",
        "plt.show()\n"
      ]
    },
    {
      "cell_type": "code",
      "execution_count": null,
      "metadata": {
        "id": "Kjgcsv1ppSoN"
      },
      "outputs": [],
      "source": [
        "query_chamados_por_bairro = \"\"\"\n",
        "    SELECT b.nome AS bairro,\n",
        "           COUNT(*) AS total_chamadas\n",
        "    FROM `datario.adm_central_atendimento_1746.chamado` c\n",
        "    JOIN `datario.dados_mestres.bairro` b\n",
        "    ON c.id_bairro = b.id_bairro\n",
        "    GROUP BY b.nome\n",
        "\"\"\"\n",
        "# Executar a consulta para contar chamadas por bairro\n",
        "df_chamados_por_bairro = bd.read_sql(query_chamados_por_bairro, billing_project_id)\n",
        "\n",
        "# Consultar os dados dos bairros com geometria\n",
        "query_bairros = \"\"\"\n",
        "    SELECT nome AS bairro,\n",
        "           geometry_wkt\n",
        "    FROM `datario.dados_mestres.bairro`\n",
        "\"\"\"\n",
        "df_bairros = bd.read_sql(query_bairros, billing_project_id)"
      ]
    },
    {
      "cell_type": "code",
      "execution_count": null,
      "metadata": {
        "id": "wUibhtgRLh6K"
      },
      "outputs": [],
      "source": [
        "# Converter a coluna de geometria de WKT para o tipo geométrico\n",
        "df_bairros['geometry_wkt'] = gpd.GeoSeries.from_wkt(df_bairros['geometry_wkt'])\n",
        "\n",
        "# Criar um GeoDataFrame com a geometria dos bairros\n",
        "gdf_bairros = gpd.GeoDataFrame(df_bairros, geometry='geometry_wkt')\n",
        "\n",
        "# Juntar os dados de chamadas com o GeoDataFrame dos bairros\n",
        "gdf_bairros = gdf_bairros.merge(df_chamados_por_bairro, on='bairro', how='left')\n",
        "\n",
        "# Preencher valores nulos (caso haja bairros sem chamadas) com zero\n",
        "gdf_bairros['total_chamadas'].fillna(0, inplace=True)\n",
        "gdf_bairros.head()"
      ]
    },
    {
      "cell_type": "code",
      "execution_count": null,
      "metadata": {
        "id": "hdv-c5ADG6n5"
      },
      "outputs": [],
      "source": [
        "# Converter a coluna 'total_chamadas' para numérico, forçando erros a se tornarem NaN\n",
        "gdf_bairros['total_chamadas'] = pd.to_numeric(gdf_bairros['total_chamadas'], errors='coerce')\n",
        "\n",
        "# Preencher valores NaN com 0 ou outro valor apropriado\n",
        "gdf_bairros['total_chamadas'] = gdf_bairros['total_chamadas'].fillna(0)\n",
        "\n",
        "# Garantir que a coluna é do tipo float\n",
        "gdf_bairros['total_chamadas'] = gdf_bairros['total_chamadas'].astype(float)\n",
        "\n",
        "# Criar a figura e o eixo\n",
        "fig, ax = plt.subplots(figsize=(70, 70))  # Ajuste o tamanho da figura conforme necessário\n",
        "\n",
        "# Definir o cmap e os intervalos de chamadas\n",
        "cmap = plt.get_cmap('OrRd')  # Escolha uma paleta de cores\n",
        "norm = plt.Normalize(vmin=gdf_bairros['total_chamadas'].min(), vmax=gdf_bairros['total_chamadas'].max())\n",
        "\n",
        "# Plotar o GeoDataFrame dos bairros usando a coluna 'total_chamadas' para colorir\n",
        "gdf_bairros.plot(column='total_chamadas', ax=ax, edgecolor='k', cmap=cmap, alpha=0.7, norm=norm, legend=False)\n",
        "# Adicionar os nomes dos bairros\n",
        "for idx, row in gdf_bairros.iterrows():\n",
        "    center = row['geometry_wkt'].representative_point()\n",
        "    ax.text(center.x, center.y, row['bairro'], fontsize=10, ha='center', color='black')\n",
        "\n",
        "# Adicionar título e ajustar os eixos\n",
        "ax.set_title('Chamadas Totais por Bairro', fontsize=40)\n",
        "ax.set_xlabel('Longitude', fontsize=30)\n",
        "ax.set_ylabel('Latitude', fontsize=30)\n",
        "ax.tick_params(labelsize=30)\n",
        "\n",
        "# Ajustar o aspecto do mapa\n",
        "ax.set_aspect('equal')\n",
        "\n",
        "# Adicionar a legenda\n",
        "sm = plt.cm.ScalarMappable(cmap=cmap, norm=norm)\n",
        "sm.set_array([])\n",
        "cbar = plt.colorbar(sm, ax=ax, orientation='vertical', fraction=0.02, pad=0.04)\n",
        "\n",
        "# Ajustar o tamanho da legenda\n",
        "cbar.set_label('Total de Chamadas', fontsize=30)\n",
        "cbar.ax.tick_params(labelsize=30)  # Reduzir o tamanho das marcas na barra de cores\n",
        "\n",
        "# Mostrar o mapa\n",
        "plt.show()\n"
      ]
    },
    {
      "cell_type": "code",
      "execution_count": null,
      "metadata": {
        "id": "reAqbOfU5DRa"
      },
      "outputs": [],
      "source": [
        "# Consulta para obter chamados por hora\n",
        "query_chamados_hora = \"\"\"\n",
        "    SELECT EXTRACT(HOUR FROM data_inicio) AS hora, COUNT(*) AS total_chamados\n",
        "    FROM `datario.adm_central_atendimento_1746.chamado`\n",
        "    WHERE subtipo IS NOT NULL\n",
        "    GROUP BY hora\n",
        "    ORDER BY hora\n",
        "\"\"\"\n",
        "df_chamados_hora = bd.read_sql(query_chamados_hora, billing_project_id)\n",
        "\n",
        "# Gráfico de Barras\n",
        "plt.figure(figsize=(12, 7))\n",
        "sns.barplot(x='hora', y='total_chamados', data=df_chamados_hora, palette='viridis')\n",
        "plt.title('Número de Chamados por Hora do Dia')\n",
        "plt.xlabel('Hora do Dia')\n",
        "plt.ylabel('Número de Chamados')\n",
        "plt.show()\n"
      ]
    },
    {
      "cell_type": "code",
      "execution_count": null,
      "metadata": {
        "id": "98M6fedB60l6"
      },
      "outputs": [],
      "source": [
        "# Consulta para obter chamados por hora\n",
        "query_chamados_hora = \"\"\"\n",
        "    SELECT EXTRACT(HOUR FROM data_inicio) AS hora, COUNT(*) AS total_chamados\n",
        "    FROM `datario.adm_central_atendimento_1746.chamado`\n",
        "    WHERE subtipo = 'Perturbação do sossego'\n",
        "    GROUP BY hora\n",
        "    ORDER BY hora\n",
        "\"\"\"\n",
        "df_chamados_hora = bd.read_sql(query_chamados_hora, billing_project_id)\n",
        "\n",
        "# Gráfico de Barras\n",
        "plt.figure(figsize=(12, 7))\n",
        "sns.barplot(x='hora', y='total_chamados', data=df_chamados_hora, palette='viridis')\n",
        "plt.title('Número de Chamados de Perturbação do Sossego por Hora do Dia')\n",
        "plt.xlabel('Hora do Dia')\n",
        "plt.ylabel('Número de Chamados')\n",
        "plt.show()\n"
      ]
    },
    {
      "cell_type": "code",
      "execution_count": null,
      "metadata": {
        "id": "2HMaw4H25ffC"
      },
      "outputs": [],
      "source": [
        "# Consulta para obter distribuição de tipos de chamados em um dia específico\n",
        "query_tipo_chamado = \"\"\"\n",
        "    SELECT tipo, COUNT(*) AS total_chamados\n",
        "    FROM `datario.adm_central_atendimento_1746.chamado`\n",
        "    WHERE DATE(data_inicio) = '2023-04-01'\n",
        "    GROUP BY tipo\n",
        "    ORDER BY total_chamados DESC\n",
        "\"\"\"\n",
        "df_tipo_chamado = bd.read_sql(query_tipo_chamado, billing_project_id)\n",
        "\n",
        "# Gráfico de Barras\n",
        "plt.figure(figsize=(12, 8))\n",
        "sns.barplot(x=df_tipo_chamado['total_chamados'], y=df_tipo_chamado['tipo'], palette='Set2')\n",
        "plt.title('Distribuição de Tipos de Chamados em 01/04/2023')\n",
        "plt.xlabel('Total de Chamados')\n",
        "plt.ylabel('Tipo de Chamado')\n",
        "plt.show()\n"
      ]
    },
    {
      "cell_type": "code",
      "source": [
        "# Definir a consulta SQL para carregar os dados\n",
        "query = \"\"\"\n",
        "SELECT\n",
        "    id_chamado,\n",
        "    data_inicio,\n",
        "    data_fim,\n",
        "    id_bairro,\n",
        "    id_territorialidade,\n",
        "    id_unidade_organizacional,\n",
        "    nome_unidade_organizacional,\n",
        "    tipo,\n",
        "    status,\n",
        "    tempo_prazo,\n",
        "    prazo_unidade,\n",
        "    prazo_tipo,\n",
        "    dentro_prazo\n",
        "FROM\n",
        "    `datario.adm_central_atendimento_1746.chamado`\n",
        "WHERE\n",
        "    DATE(data_inicio) = '2023-04-01'\n",
        "\"\"\"\n",
        "\n",
        "# Executar a consulta e carregar os dados em um DataFrame\n",
        "df_chamados = bd.read_sql(query, billing_project_id)\n",
        "\n",
        "# Converter as colunas de data para o tipo datetime\n",
        "df_chamados['data_inicio'] = pd.to_datetime(df_chamados['data_inicio'])\n",
        "df_chamados['data_fim'] = pd.to_datetime(df_chamados['data_fim'])\n",
        "\n",
        "# Calcular o tempo de resolução em dias\n",
        "df_chamados['tempo_resolucao'] = (df_chamados['data_fim'] - df_chamados['data_inicio']).dt.days\n",
        "\n",
        "# Preencher valores NaN na coluna de tempo de resolução com 0 ou outro valor apropriado\n",
        "df_chamados['tempo_resolucao'] = df_chamados['tempo_resolucao'].fillna(0)\n",
        "\n",
        "# Garantir que a coluna é do tipo float\n",
        "df_chamados['tempo_resolucao'] = df_chamados['tempo_resolucao'].astype(float)\n"
      ],
      "metadata": {
        "id": "MQKMoFCVt7tz"
      },
      "execution_count": null,
      "outputs": []
    },
    {
      "cell_type": "code",
      "source": [
        "# Tempo médio de resolução por tipo de chamado\n",
        "tempo_medio_tipo = df_chamados.groupby('tipo')['tempo_resolucao'].mean().reset_index()\n",
        "\n",
        "# Tempo médio de resolução por subprefeitura\n",
        "tempo_medio_subprefeitura = df_chamados.groupby('id_territorialidade')['tempo_resolucao'].mean().reset_index()"
      ],
      "metadata": {
        "id": "EqBknxYGt9MF"
      },
      "execution_count": 25,
      "outputs": []
    },
    {
      "cell_type": "code",
      "source": [
        "# Gráfico de tempo médio de resolução por tipo de chamado\n",
        "plt.figure(figsize=(14, 7))\n",
        "plt.bar(tempo_medio_tipo['tipo'], tempo_medio_tipo['tempo_resolucao'], color='skyblue')\n",
        "plt.xlabel('Tipo de Chamado')\n",
        "plt.ylabel('Tempo Médio de Resolução (dias)')\n",
        "plt.title('Tempo Médio de Resolução por Tipo de Chamado')\n",
        "plt.xticks(rotation=45, ha='right')\n",
        "plt.show()\n",
        "\n",
        "# Gráfico de tempo médio de resolução por subprefeitura\n",
        "plt.figure(figsize=(14, 7))\n",
        "plt.bar(tempo_medio_subprefeitura['id_territorialidade'], tempo_medio_subprefeitura['tempo_resolucao'], color='lightcoral')\n",
        "plt.xlabel('Subprefeitura')\n",
        "plt.ylabel('Tempo Médio de Resolução (dias)')\n",
        "plt.title('Tempo Médio de Resolução por Subprefeitura')\n",
        "plt.xticks(rotation=45, ha='right')\n",
        "plt.show()\n"
      ],
      "metadata": {
        "id": "CjzOshhbt-u-"
      },
      "execution_count": null,
      "outputs": []
    }
  ],
  "metadata": {
    "colab": {
      "provenance": []
    },
    "kernelspec": {
      "display_name": "Python 3",
      "name": "python3"
    },
    "language_info": {
      "name": "python"
    }
  },
  "nbformat": 4,
  "nbformat_minor": 0
}